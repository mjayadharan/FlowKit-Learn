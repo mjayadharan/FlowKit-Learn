{
 "cells": [
  {
   "cell_type": "markdown",
   "metadata": {},
   "source": [
    "__Author: Manu Jayadharan, University of Pittsburgh, 2020__"
   ]
  },
  {
   "cell_type": "markdown",
   "metadata": {},
   "source": [
    "# Example 2: Using fluidlearn to solve an elliptic pde: 3d Poission equation."
   ]
  },
  {
   "cell_type": "markdown",
   "metadata": {},
   "source": [
    "- This is the second example in the series, intended to act as tutorial for fluidlearn package. \n",
    "- New in this example: how to use one of in-built PDE models. We illustrate this by using the _Poisson_ model from the fluidlearn.fluidmodels module. \n",
    "- We also show how to manufacture boundary conditions easily using the fluidlearn.dataprocess module, for convergence testing and debugging."
   ]
  },
  {
   "cell_type": "markdown",
   "metadata": {},
   "source": [
    "Equation to solve: $-\\Delta u -f  = 0$\n",
    "over domain $\\Omega$ ."
   ]
  },
  {
   "cell_type": "markdown",
   "metadata": {},
   "source": [
    "For demonstration purposes we take $f=-6(x_1 + x_2) - 2$ and $\\Omega = [-2,4]\\times [0,5]\\times [-3,3]$, so we can compare the results with the actual solution $u=x_1^3 + x_2^3 + x_3^2$."
   ]
  },
  {
   "cell_type": "code",
   "execution_count": 5,
   "metadata": {},
   "outputs": [],
   "source": [
    "#Import fluidlearn package and classes\n",
    "import fluidlearn\n",
    "from fluidlearn import dataprocess\n",
    "import numpy as np"
   ]
  },
  {
   "cell_type": "code",
   "execution_count": null,
   "metadata": {},
   "outputs": [],
   "source": [
    "#Import fluidlearn package and classes\n",
    "import fluidlearn\n",
    "from fluidlearn import dataprocess"
   ]
  },
  {
   "cell_type": "markdown",
   "metadata": {},
   "source": [
    "### Defining the domain and time interval for which the PDE needs to be solved.\n",
    "This matters only for generating collocation points and if the user is feeding their own collocation points,\n",
    "they can skip this step."
   ]
  },
  {
   "cell_type": "code",
   "execution_count": 123,
   "metadata": {},
   "outputs": [],
   "source": [
    "#domain range\n",
    "X_1_domain = [-2, 2]\n",
    "X_2_domain = [0, 1]\n",
    "X_3_domain = [0,4]\n",
    "\n",
    "#domain of the problem\n",
    "domain_bounds = [X_1_domain, X_2_domain, X_3_domain]"
   ]
  },
  {
   "cell_type": "markdown",
   "metadata": {},
   "source": [
    "### Manufacturing the boundary data\n",
    "- We use the fluidlearn.dataprocess.BcIcManufact class to generate points lying on the faces of the hypercube defined by the intervals given in domain_bounds. This is equivalent to randomly selecting points from the domain boundary, $\\partial \\Omega$.\n",
    "- We then use our knowledge of the manufactured solution to manufacture the boundary conditions corresponding to these points.\n",
    "- Note that for this example, we use uniform distribution to randomly select points."
   ]
  },
  {
   "cell_type": "code",
   "execution_count": 124,
   "metadata": {},
   "outputs": [],
   "source": [
    "bc_data_size = 1000 #number of data points on boundary\n",
    "\n",
    "#object to randomly generate points lying on the boundary\n",
    "bc_generator = dataprocess.BcIcDataManufact(domain_bounds)"
   ]
  },
  {
   "cell_type": "code",
   "execution_count": 125,
   "metadata": {},
   "outputs": [],
   "source": [
    "X_data = bc_generator.generate_uniform_bc_ic(bc_data_size)"
   ]
  },
  {
   "cell_type": "code",
   "execution_count": 126,
   "metadata": {},
   "outputs": [],
   "source": [
    "num_intr_dat = 10\n",
    "X_data = np.concatenate([X_data,np.random.uniform(0,1,3*num_intr_dat).reshape((num_intr_dat,3))])"
   ]
  },
  {
   "cell_type": "code",
   "execution_count": 127,
   "metadata": {},
   "outputs": [
    {
     "data": {
      "text/plain": [
       "(6010, 3)"
      ]
     },
     "execution_count": 127,
     "metadata": {},
     "output_type": "execute_result"
    }
   ],
   "source": [
    "#Note that we will have bc_data_size number of instances for each boundary\n",
    "#face\n",
    "X_data.shape"
   ]
  },
  {
   "cell_type": "markdown",
   "metadata": {},
   "source": [
    "#### Generating the boundary condition from random boundary points using the manufactured solution $u=x_1^3 + x_2^3 + x_3^2$"
   ]
  },
  {
   "cell_type": "code",
   "execution_count": 130,
   "metadata": {},
   "outputs": [],
   "source": [
    "import numpy as np\n",
    "Y_data = (X_data[:,0]**3 + X_data[:,1]**3 + X_data[:,2]**2)[:,np.newaxis]\n"
   ]
  },
  {
   "cell_type": "markdown",
   "metadata": {},
   "source": [
    "### Defining the rhs function $f=-6(x_1 + x_2) - 2$ of the PDE."
   ]
  },
  {
   "cell_type": "code",
   "execution_count": 132,
   "metadata": {},
   "outputs": [],
   "source": [
    "def rhs_function (args, time_dep=False):\n",
    "        return -6*(args[0]+args[1]) -2"
   ]
  },
  {
   "cell_type": "markdown",
   "metadata": {},
   "source": [
    "### Defining the model architecture"
   ]
  },
  {
   "cell_type": "code",
   "execution_count": 134,
   "metadata": {},
   "outputs": [],
   "source": [
    "model_type = 'poisson'\n",
    "space_dim = 3 #dimension of Omega\n",
    "time_dependent_problem = False\n",
    "n_hid_lay=6 #numberof hidden layers in the neural network\n",
    "n_hid_nrn=30 #number of neurons in each hidden layer\n",
    "act_func='tanh' #activation function used for hidden layers:  could be elu, relu, sigmoid\n",
    "loss_list='mse' #type of error function used for cost functin, we use mean squared error.\n",
    "optimizer='adam' #type of optimizer for cost function minimization\n",
    "dom_bounds=domain_bounds #domain bounds where collocation points has to be generated\n",
    "\n",
    "distribution = 'uniform' #type of distribution used for generating the pde collocation points.\n",
    "number_of_collocation_points = 10000\n",
    "\n",
    "batch_size = 32 #batch size for stochastic batch gradient type optimization\n",
    "num_epochs = 10 #number of epochs used for trainng  "
   ]
  },
  {
   "cell_type": "markdown",
   "metadata": {},
   "source": [
    "### Defining the fluidlearn solver "
   ]
  },
  {
   "cell_type": "code",
   "execution_count": 135,
   "metadata": {},
   "outputs": [],
   "source": [
    "#Instantiation of the fluidlearn.fluildlearn.Solver class\n",
    "poisson3d_model = fluidlearn.Solver()"
   ]
  },
  {
   "cell_type": "code",
   "execution_count": 136,
   "metadata": {},
   "outputs": [],
   "source": [
    "poisson3d_model(model_type=model_type,\n",
    "            space_dim=space_dim,\n",
    "            time_dep=time_dependent_problem,\n",
    "            output_dim=1,\n",
    "            n_hid_lay=n_hid_lay,\n",
    "            n_hid_nrn=n_hid_lay,\n",
    "            act_func=act_func,\n",
    "            rhs_func=rhs_function,\n",
    "            loss_list=loss_list,\n",
    "            optimizer=optimizer,\n",
    "            dom_bounds=dom_bounds,\n",
    "            load_model=False,\n",
    "            model_path=None)"
   ]
  },
  {
   "cell_type": "markdown",
   "metadata": {},
   "source": [
    "### Fitting the model"
   ]
  },
  {
   "cell_type": "code",
   "execution_count": 137,
   "metadata": {
    "scrolled": true
   },
   "outputs": [
    {
     "name": "stdout",
     "output_type": "stream",
     "text": [
      "Epoch 1/10\n",
      "501/501 [==============================] - 8s 15ms/step - loss: 31.9742 - output_1_loss: 16.1745 - output_2_loss: 15.7997\n",
      "Epoch 2/10\n",
      "501/501 [==============================] - 8s 17ms/step - loss: 20.7385 - output_1_loss: 12.2779 - output_2_loss: 8.4605\n",
      "Epoch 3/10\n",
      "501/501 [==============================] - 8s 16ms/step - loss: 11.8072 - output_1_loss: 7.1775 - output_2_loss: 4.6297\n",
      "Epoch 4/10\n",
      "501/501 [==============================] - 9s 17ms/step - loss: 6.0623 - output_1_loss: 3.9346 - output_2_loss: 2.1277\n",
      "Epoch 5/10\n",
      "501/501 [==============================] - 8s 17ms/step - loss: 3.7272 - output_1_loss: 2.5057 - output_2_loss: 1.2215\n",
      "Epoch 6/10\n",
      "501/501 [==============================] - 8s 17ms/step - loss: 2.2637 - output_1_loss: 1.5694 - output_2_loss: 0.6943\n",
      "Epoch 7/10\n",
      "501/501 [==============================] - 9s 18ms/step - loss: 1.5779 - output_1_loss: 1.1181 - output_2_loss: 0.4598\n",
      "Epoch 8/10\n",
      "501/501 [==============================] - 9s 18ms/step - loss: 1.1895 - output_1_loss: 0.8162 - output_2_loss: 0.3734\n",
      "Epoch 9/10\n",
      "501/501 [==============================] - 9s 17ms/step - loss: 0.8678 - output_1_loss: 0.6147 - output_2_loss: 0.2531\n",
      "Epoch 10/10\n",
      "501/501 [==============================] - 10s 21ms/step - loss: 0.7599 - output_1_loss: 0.5414 - output_2_loss: 0.2185\n"
     ]
    }
   ],
   "source": [
    "poisson3d_model.fit(\n",
    "    x=X_data,\n",
    "    y=Y_data,\n",
    "    colloc_points=number_of_collocation_points,\n",
    "    dist=distribution,\n",
    "    batch_size=batch_size,\n",
    "    epochs=num_epochs,\n",
    ")"
   ]
  },
  {
   "cell_type": "markdown",
   "metadata": {},
   "source": [
    "### Resuming Training  the model again for 50 more epochs"
   ]
  },
  {
   "cell_type": "code",
   "execution_count": 138,
   "metadata": {
    "scrolled": true
   },
   "outputs": [
    {
     "name": "stdout",
     "output_type": "stream",
     "text": [
      "Epoch 1/20\n",
      "501/501 [==============================] - 8s 16ms/step - loss: 0.5891 - output_1_loss: 0.4347 - output_2_loss: 0.1544\n",
      "Epoch 2/20\n",
      "501/501 [==============================] - 7s 15ms/step - loss: 0.5025 - output_1_loss: 0.3705 - output_2_loss: 0.1320\n",
      "Epoch 3/20\n",
      "501/501 [==============================] - 8s 16ms/step - loss: 0.4789 - output_1_loss: 0.3509 - output_2_loss: 0.1280\n",
      "Epoch 4/20\n",
      "501/501 [==============================] - 8s 16ms/step - loss: 0.4606 - output_1_loss: 0.3293 - output_2_loss: 0.1313\n",
      "Epoch 5/20\n",
      "501/501 [==============================] - 10s 21ms/step - loss: 0.3550 - output_1_loss: 0.2634 - output_2_loss: 0.0915\n",
      "Epoch 6/20\n",
      "501/501 [==============================] - 9s 18ms/step - loss: 0.3180 - output_1_loss: 0.2331 - output_2_loss: 0.0849\n",
      "Epoch 7/20\n",
      "501/501 [==============================] - 9s 17ms/step - loss: 0.3354 - output_1_loss: 0.2379 - output_2_loss: 0.0975\n",
      "Epoch 8/20\n",
      "501/501 [==============================] - 9s 18ms/step - loss: 0.2543 - output_1_loss: 0.1872 - output_2_loss: 0.0671\n",
      "Epoch 9/20\n",
      "501/501 [==============================] - 8s 16ms/step - loss: 0.2204 - output_1_loss: 0.1583 - output_2_loss: 0.0621\n",
      "Epoch 10/20\n",
      "501/501 [==============================] - 9s 18ms/step - loss: 0.2538 - output_1_loss: 0.1765 - output_2_loss: 0.0773\n",
      "Epoch 11/20\n",
      "501/501 [==============================] - 9s 18ms/step - loss: 0.1924 - output_1_loss: 0.1332 - output_2_loss: 0.0592\n",
      "Epoch 12/20\n",
      "501/501 [==============================] - 9s 18ms/step - loss: 0.2467 - output_1_loss: 0.1605 - output_2_loss: 0.0862\n",
      "Epoch 13/20\n",
      "501/501 [==============================] - 9s 18ms/step - loss: 0.2176 - output_1_loss: 0.1437 - output_2_loss: 0.0740\n",
      "Epoch 14/20\n",
      "501/501 [==============================] - 9s 18ms/step - loss: 0.1409 - output_1_loss: 0.0966 - output_2_loss: 0.0443\n",
      "Epoch 15/20\n",
      "501/501 [==============================] - 9s 18ms/step - loss: 0.1919 - output_1_loss: 0.1249 - output_2_loss: 0.0671\n",
      "Epoch 16/20\n",
      "501/501 [==============================] - 9s 18ms/step - loss: 0.1304 - output_1_loss: 0.0883 - output_2_loss: 0.0421\n",
      "Epoch 17/20\n",
      "501/501 [==============================] - 9s 18ms/step - loss: 0.1378 - output_1_loss: 0.0890 - output_2_loss: 0.0488\n",
      "Epoch 18/20\n",
      "501/501 [==============================] - 9s 18ms/step - loss: 0.0826 - output_1_loss: 0.0556 - output_2_loss: 0.0270\n",
      "Epoch 19/20\n",
      "501/501 [==============================] - 9s 18ms/step - loss: 0.1493 - output_1_loss: 0.0936 - output_2_loss: 0.0557\n",
      "Epoch 20/20\n",
      "501/501 [==============================] - 9s 18ms/step - loss: 0.0744 - output_1_loss: 0.0499 - output_2_loss: 0.0245\n"
     ]
    }
   ],
   "source": [
    "poisson3d_model.fit(\n",
    "    x=X_data,\n",
    "    y=Y_data,\n",
    "    colloc_points=number_of_collocation_points,\n",
    "    dist=distribution,\n",
    "    batch_size=batch_size,\n",
    "    epochs=20,\n",
    ")"
   ]
  },
  {
   "cell_type": "markdown",
   "metadata": {},
   "source": [
    "### Demo Using the trained model for predicton"
   ]
  },
  {
   "cell_type": "code",
   "execution_count": 149,
   "metadata": {},
   "outputs": [],
   "source": [
    "num_test_points = 500\n",
    "X_test = np.random.uniform(0,1,3*num_test_points).reshape(num_test_points,3)\n",
    "X_test = np.concatenate([np.random.uniform(X_1_domain[0],X_1_domain[1],num_test_points).reshape(num_test_points,1),\n",
    "                         np.random.uniform(X_2_domain[0],X_2_domain[1],num_test_points).reshape(num_test_points,1),\n",
    "                         np.random.uniform(X_3_domain[0],X_3_domain[1],num_test_points).reshape(num_test_points,1)],\n",
    "                        axis=1)"
   ]
  },
  {
   "cell_type": "code",
   "execution_count": 150,
   "metadata": {},
   "outputs": [],
   "source": [
    "Y_test = X_test[:,0]**3 + X_test[:,1]**3 + X_test[:,2]**2"
   ]
  },
  {
   "cell_type": "code",
   "execution_count": 151,
   "metadata": {},
   "outputs": [],
   "source": [
    "Y_pred = poisson3d_model.predict(X_test)"
   ]
  },
  {
   "cell_type": "code",
   "execution_count": 152,
   "metadata": {},
   "outputs": [
    {
     "data": {
      "text/plain": [
       "(500,)"
      ]
     },
     "execution_count": 152,
     "metadata": {},
     "output_type": "execute_result"
    }
   ],
   "source": [
    "Y_pred = np.squeeze(Y_pred,axis=1)\n",
    "Y_pred.shape"
   ]
  },
  {
   "cell_type": "code",
   "execution_count": 153,
   "metadata": {},
   "outputs": [
    {
     "data": {
      "image/png": "[encoded data removed]",
      "text/plain": [
       "<Figure size 432x288 with 1 Axes>"
      ]
     },
     "metadata": {
      "needs_background": "light"
     },
     "output_type": "display_data"
    }
   ],
   "source": [
    "plt.plot(Y_test,Y_pred,'o',Y_test, Y_test,'r-')\n",
    "plt.title(\"true vs predicted solution\")\n",
    "plt.xlabel(\"True solution\")\n",
    "plt.ylabel(\"Predicted solution\")\n",
    "plt.show()"
   ]
  },
  {
   "cell_type": "code",
   "execution_count": 48,
   "metadata": {},
   "outputs": [
    {
     "name": "stdout",
     "output_type": "stream",
     "text": [
      "WARNING:tensorflow:From C:\\Users\\manuj\\anaconda3\\envs\\tf2\\lib\\site-packages\\tensorflow\\python\\training\\tracking\\tracking.py:111: Model.state_updates (from tensorflow.python.keras.engine.training) is deprecated and will be removed in a future version.\n",
      "Instructions for updating:\n",
      "This property should not be used in TensorFlow 2.0, as updates are applied automatically.\n",
      "WARNING:tensorflow:From C:\\Users\\manuj\\anaconda3\\envs\\tf2\\lib\\site-packages\\tensorflow\\python\\training\\tracking\\tracking.py:111: Layer.updates (from tensorflow.python.keras.engine.base_layer) is deprecated and will be removed in a future version.\n",
      "Instructions for updating:\n",
      "This property should not be used in TensorFlow 2.0, as updates are applied automatically.\n",
      "INFO:tensorflow:Assets written to: saved_model/model_name\\assets\n"
     ]
    }
   ],
   "source": [
    "path_to_save_model = \"saved_model/model_name\"\n",
    "poisson3d_model.save_model(path_to_save_model)"
   ]
  }
 ],
 "metadata": {
  "kernelspec": {
   "display_name": "Python 3",
   "language": "python",
   "name": "python3"
  },
  "language_info": {
   "codemirror_mode": {
    "name": "ipython",
    "version": 3
   },
   "file_extension": ".py",
   "mimetype": "text/x-python",
   "name": "python",
   "nbconvert_exporter": "python",
   "pygments_lexer": "ipython3",
   "version": "3.8.3"
  }
 },
 "nbformat": 4,
 "nbformat_minor": 4
}
