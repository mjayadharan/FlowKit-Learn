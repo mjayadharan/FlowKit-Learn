{
 "cells": [
  {
   "cell_type": "markdown",
   "metadata": {},
   "source": [
    "__Author: Manu Jayadharan, University of Pittsburgh, 2020__"
   ]
  },
  {
   "cell_type": "markdown",
   "metadata": {},
   "source": [
    "# Using fluidlearn to solve diffusion equation"
   ]
  },
  {
   "cell_type": "markdown",
   "metadata": {},
   "source": [
    "Equation to solve: $u_t-\\Delta u -f  = 0$\n",
    "over domain $\\Omega$ from time T_initial to T_final."
   ]
  },
  {
   "cell_type": "markdown",
   "metadata": {},
   "source": [
    "For demonstration purposes we take $f=sin(x_1 + x_2) + tsin(x_1 + x_2)$ and $\\Omega = [-2,2]\\times [0,1]$ and the time interval to be $[0,1]$, so we can compare the results with the actual solution $u=tsin(x_1 + x_2)$."
   ]
  },
  {
   "cell_type": "code",
   "execution_count": 2,
   "metadata": {},
   "outputs": [],
   "source": [
    "#Import fluidlearn package and classes\n",
    "import fluidlearn\n",
    "from fluidlearn import dataprocess"
   ]
  },
  {
   "cell_type": "markdown",
   "metadata": {},
   "source": [
    "### Defining the domain and time interval for which the PDE needs to be solved.\n",
    "This matters only for generating collocation points and if the user is feeding their own collocation points,\n",
    "they can skip this step."
   ]
  },
  {
   "cell_type": "code",
   "execution_count": 3,
   "metadata": {},
   "outputs": [],
   "source": [
    "#domain range\n",
    "X_1_domain = [-2, 2]\n",
    "X_2_domain = [0, 1]\n",
    "#time range\n",
    "T_initial = 0\n",
    "T_final = 1\n",
    "T_domain = [T_initial, T_final]\n",
    "\n",
    "#domain of the problem\n",
    "domain_bounds = [X_1_domain, X_2_domain, T_domain]"
   ]
  },
  {
   "cell_type": "markdown",
   "metadata": {},
   "source": [
    "### Loading data from a csv file\n",
    "- We use the manufactured data with $u=tsin(x_1 + x_2)$ saved in a csv file.\n",
    "- Data is saved in the format: ($x_1 , x_2, t, u(x_1, x_2, t)$) as four columns.\n",
    "- You could load either preprocess your data to be in this format or load your data\n",
    "  from a csv file with similar format."
   ]
  },
  {
   "cell_type": "code",
   "execution_count": 4,
   "metadata": {},
   "outputs": [],
   "source": [
    "path_to_data = \"data_manufactured/t_sin_x_plus_y.csv\"\n",
    "X_data, Y_data = dataprocess.imp_from_csv(path_to_csv_file=path_to_data,\n",
    "                                           x_y_combined=True, y_dim=1)"
   ]
  },
  {
   "cell_type": "markdown",
   "metadata": {},
   "source": [
    "### Defining the rhs function $f=sin(x_1 + x_2) + tsin(x_1 + x_2)$ of the PDE.\n",
    "We use tensorflow.sin function instead of python functions, we could used numpy.sin as well."
   ]
  },
  {
   "cell_type": "code",
   "execution_count": 5,
   "metadata": {},
   "outputs": [],
   "source": [
    "def rhs_function (args, time_dep=True):\n",
    "        import tensorflow as tf\n",
    "        if time_dep:\n",
    "            space_inputs = args[:-1]\n",
    "            time_inputs = args[-1]\n",
    "        else:\n",
    "            space_inputs = args\n",
    "        \n",
    "        return tf.sin(space_inputs[0]+space_inputs[1]) + 2*time_inputs*tf.sin(space_inputs[0]+space_inputs[1])"
   ]
  },
  {
   "cell_type": "markdown",
   "metadata": {},
   "source": [
    "### Defining the model architecture"
   ]
  },
  {
   "cell_type": "code",
   "execution_count": 6,
   "metadata": {},
   "outputs": [],
   "source": [
    "model_type = 'forward'\n",
    "space_dim = 2 #dimension of Omega\n",
    "time_depedent_problem = True\n",
    "n_hid_lay=3 #numberof hidden layers in the neural network\n",
    "n_hid_nrn=20 #number of neurons in each hidden layer\n",
    "act_func='tanh' #activation function used for hidden layers:  could be elu, relu, sigmoid\n",
    "loss_list='mse' #type of error function used for cost functin, we use mean squared error.\n",
    "optimizer='adam' #type of optimizer for cost function minimization\n",
    "dom_bounds=domain_bounds #domain bounds where collocation points has to be generated\n",
    "\n",
    "distribution = 'uniform' #type of distribution used for generating the pde collocation points.\n",
    "number_of_collocation_points = 5000\n",
    "\n",
    "batch_size = 32 #batch size for stochastic batch gradient type optimization\n",
    "num_epochs = 10 #number of epochs used for trainng  "
   ]
  },
  {
   "cell_type": "markdown",
   "metadata": {},
   "source": [
    "### Defining the fluidlearn solver "
   ]
  },
  {
   "cell_type": "code",
   "execution_count": 7,
   "metadata": {},
   "outputs": [],
   "source": [
    "diffusion_model = fluidlearn.Solver()"
   ]
  },
  {
   "cell_type": "code",
   "execution_count": 8,
   "metadata": {},
   "outputs": [],
   "source": [
    "diffusion_model(model_type=model_type,\n",
    "            space_dim=space_dim,\n",
    "            time_dep=time_depedent_problem,\n",
    "            output_dim=1,\n",
    "            n_hid_lay=n_hid_lay,\n",
    "            n_hid_nrn=n_hid_lay,\n",
    "            act_func=act_func,\n",
    "            rhs_func=rhs_function,\n",
    "            loss_list=loss_list,\n",
    "            optimizer=optimizer,\n",
    "            dom_bounds=dom_bounds,\n",
    "            load_model=False,\n",
    "            model_path=None,)"
   ]
  },
  {
   "cell_type": "markdown",
   "metadata": {},
   "source": [
    "### Fitting the model"
   ]
  },
  {
   "cell_type": "code",
   "execution_count": 9,
   "metadata": {
    "scrolled": true
   },
   "outputs": [
    {
     "name": "stdout",
     "output_type": "stream",
     "text": [
      "Epoch 1/10\n",
      "219/219 [==============================] - 0s 1ms/step - loss: 0.3513 - output_1_loss: 0.0209 - output_2_loss: 0.3305\n",
      "Epoch 2/10\n",
      "219/219 [==============================] - 0s 1ms/step - loss: 0.1598 - output_1_loss: 0.0228 - output_2_loss: 0.1370\n",
      "Epoch 3/10\n",
      "219/219 [==============================] - 0s 1ms/step - loss: 0.1110 - output_1_loss: 0.0217 - output_2_loss: 0.0893\n",
      "Epoch 4/10\n",
      "219/219 [==============================] - 0s 1ms/step - loss: 0.0940 - output_1_loss: 0.0224 - output_2_loss: 0.0717\n",
      "Epoch 5/10\n",
      "219/219 [==============================] - 0s 1ms/step - loss: 0.0831 - output_1_loss: 0.0231 - output_2_loss: 0.0600\n",
      "Epoch 6/10\n",
      "219/219 [==============================] - 0s 1ms/step - loss: 0.0732 - output_1_loss: 0.0231 - output_2_loss: 0.0501\n",
      "Epoch 7/10\n",
      "219/219 [==============================] - 0s 1ms/step - loss: 0.0628 - output_1_loss: 0.0214 - output_2_loss: 0.0414\n",
      "Epoch 8/10\n",
      "219/219 [==============================] - 0s 1ms/step - loss: 0.0514 - output_1_loss: 0.0192 - output_2_loss: 0.0321\n",
      "Epoch 9/10\n",
      "219/219 [==============================] - 0s 1ms/step - loss: 0.0423 - output_1_loss: 0.0167 - output_2_loss: 0.0256\n",
      "Epoch 10/10\n",
      "219/219 [==============================] - 0s 1ms/step - loss: 0.0362 - output_1_loss: 0.0157 - output_2_loss: 0.0205\n"
     ]
    }
   ],
   "source": [
    "diffusion_model.fit(\n",
    "    x=X_data,\n",
    "    y=Y_data,\n",
    "    colloc_points=number_of_collocation_points,\n",
    "    dist=distribution,\n",
    "    batch_size=batch_size,\n",
    "    epochs=num_epochs,\n",
    ")"
   ]
  },
  {
   "cell_type": "markdown",
   "metadata": {},
   "source": [
    "### Resuming Training  the model again for 50 more epochs"
   ]
  },
  {
   "cell_type": "code",
   "execution_count": 17,
   "metadata": {},
   "outputs": [
    {
     "name": "stdout",
     "output_type": "stream",
     "text": [
      "Epoch 1/50\n",
      "219/219 [==============================] - 0s 1ms/step - loss: 0.0010 - output_1_loss: 5.5980e-04 - output_2_loss: 4.7206e-04\n",
      "Epoch 2/50\n",
      "219/219 [==============================] - 0s 1ms/step - loss: 0.0010 - output_1_loss: 5.6017e-04 - output_2_loss: 4.6657e-04\n",
      "Epoch 3/50\n",
      "219/219 [==============================] - 0s 1ms/step - loss: 0.0010 - output_1_loss: 5.5690e-04 - output_2_loss: 4.6706e-04\n",
      "Epoch 4/50\n",
      "219/219 [==============================] - 0s 1ms/step - loss: 0.0010 - output_1_loss: 5.6190e-04 - output_2_loss: 4.6779e-04\n",
      "Epoch 5/50\n",
      "219/219 [==============================] - 0s 1ms/step - loss: 9.9724e-04 - output_1_loss: 5.5509e-04 - output_2_loss: 4.4215e-04\n",
      "Epoch 6/50\n",
      "219/219 [==============================] - 0s 1ms/step - loss: 9.8571e-04 - output_1_loss: 5.5845e-04 - output_2_loss: 4.2726e-04\n",
      "Epoch 7/50\n",
      "219/219 [==============================] - 0s 1ms/step - loss: 9.9226e-04 - output_1_loss: 5.5868e-04 - output_2_loss: 4.3358e-04\n",
      "Epoch 8/50\n",
      "219/219 [==============================] - 0s 1ms/step - loss: 9.7645e-04 - output_1_loss: 5.5116e-04 - output_2_loss: 4.2529e-04\n",
      "Epoch 9/50\n",
      "219/219 [==============================] - 0s 1ms/step - loss: 9.4746e-04 - output_1_loss: 5.4082e-04 - output_2_loss: 4.0664e-04\n",
      "Epoch 10/50\n",
      "219/219 [==============================] - 0s 1ms/step - loss: 9.5962e-04 - output_1_loss: 5.5074e-04 - output_2_loss: 4.0888e-04\n",
      "Epoch 11/50\n",
      "219/219 [==============================] - 0s 1ms/step - loss: 9.7768e-04 - output_1_loss: 5.6199e-04 - output_2_loss: 4.1570e-04\n",
      "Epoch 12/50\n",
      "219/219 [==============================] - 0s 1ms/step - loss: 9.5774e-04 - output_1_loss: 5.4138e-04 - output_2_loss: 4.1637e-04\n",
      "Epoch 13/50\n",
      "219/219 [==============================] - 0s 1ms/step - loss: 9.3080e-04 - output_1_loss: 5.3598e-04 - output_2_loss: 3.9482e-04\n",
      "Epoch 14/50\n",
      "219/219 [==============================] - 0s 1ms/step - loss: 9.2209e-04 - output_1_loss: 5.3978e-04 - output_2_loss: 3.8232e-04\n",
      "Epoch 15/50\n",
      "219/219 [==============================] - 0s 1ms/step - loss: 9.2861e-04 - output_1_loss: 5.3781e-04 - output_2_loss: 3.9080e-04\n",
      "Epoch 16/50\n",
      "219/219 [==============================] - 0s 1ms/step - loss: 9.1883e-04 - output_1_loss: 5.3864e-04 - output_2_loss: 3.8019e-04\n",
      "Epoch 17/50\n",
      "219/219 [==============================] - 0s 1ms/step - loss: 9.1839e-04 - output_1_loss: 5.4479e-04 - output_2_loss: 3.7360e-04\n",
      "Epoch 18/50\n",
      "219/219 [==============================] - 0s 1ms/step - loss: 8.9556e-04 - output_1_loss: 5.2353e-04 - output_2_loss: 3.7202e-04\n",
      "Epoch 19/50\n",
      "219/219 [==============================] - 0s 1ms/step - loss: 9.3620e-04 - output_1_loss: 5.3704e-04 - output_2_loss: 3.9916e-04\n",
      "Epoch 20/50\n",
      "219/219 [==============================] - 0s 1ms/step - loss: 9.0400e-04 - output_1_loss: 5.2691e-04 - output_2_loss: 3.7709e-04\n",
      "Epoch 21/50\n",
      "219/219 [==============================] - 0s 1ms/step - loss: 9.1851e-04 - output_1_loss: 5.4153e-04 - output_2_loss: 3.7698e-04\n",
      "Epoch 22/50\n",
      "219/219 [==============================] - 0s 1ms/step - loss: 8.8642e-04 - output_1_loss: 5.3385e-04 - output_2_loss: 3.5256e-04\n",
      "Epoch 23/50\n",
      "219/219 [==============================] - 0s 1ms/step - loss: 8.9163e-04 - output_1_loss: 5.2564e-04 - output_2_loss: 3.6599e-04\n",
      "Epoch 24/50\n",
      "219/219 [==============================] - 0s 1ms/step - loss: 8.9880e-04 - output_1_loss: 5.3118e-04 - output_2_loss: 3.6761e-04\n",
      "Epoch 25/50\n",
      "219/219 [==============================] - 0s 1ms/step - loss: 8.8967e-04 - output_1_loss: 5.2640e-04 - output_2_loss: 3.6327e-04\n",
      "Epoch 26/50\n",
      "219/219 [==============================] - 0s 1ms/step - loss: 8.9322e-04 - output_1_loss: 5.3548e-04 - output_2_loss: 3.5774e-04\n",
      "Epoch 27/50\n",
      "219/219 [==============================] - 0s 1ms/step - loss: 8.7614e-04 - output_1_loss: 5.2109e-04 - output_2_loss: 3.5505e-04\n",
      "Epoch 28/50\n",
      "219/219 [==============================] - 0s 1ms/step - loss: 8.6327e-04 - output_1_loss: 5.2088e-04 - output_2_loss: 3.4240e-04\n",
      "Epoch 29/50\n",
      "219/219 [==============================] - 0s 1ms/step - loss: 8.6831e-04 - output_1_loss: 5.1809e-04 - output_2_loss: 3.5022e-04\n",
      "Epoch 30/50\n",
      "219/219 [==============================] - 0s 1ms/step - loss: 8.6826e-04 - output_1_loss: 5.2257e-04 - output_2_loss: 3.4569e-04\n",
      "Epoch 31/50\n",
      "219/219 [==============================] - 0s 1ms/step - loss: 8.7395e-04 - output_1_loss: 5.2565e-04 - output_2_loss: 3.4830e-04\n",
      "Epoch 32/50\n",
      "219/219 [==============================] - 0s 1ms/step - loss: 8.5699e-04 - output_1_loss: 5.0775e-04 - output_2_loss: 3.4923e-04\n",
      "Epoch 33/50\n",
      "219/219 [==============================] - 0s 1ms/step - loss: 8.6955e-04 - output_1_loss: 5.2541e-04 - output_2_loss: 3.4414e-04\n",
      "Epoch 34/50\n",
      "219/219 [==============================] - 0s 1ms/step - loss: 8.5461e-04 - output_1_loss: 5.2507e-04 - output_2_loss: 3.2954e-04\n",
      "Epoch 35/50\n",
      "219/219 [==============================] - 0s 1ms/step - loss: 8.2575e-04 - output_1_loss: 5.0769e-04 - output_2_loss: 3.1806e-04\n",
      "Epoch 36/50\n",
      "219/219 [==============================] - 0s 1ms/step - loss: 8.4777e-04 - output_1_loss: 5.2176e-04 - output_2_loss: 3.2600e-04\n",
      "Epoch 37/50\n",
      "219/219 [==============================] - 0s 1ms/step - loss: 8.1819e-04 - output_1_loss: 5.0107e-04 - output_2_loss: 3.1712e-04\n",
      "Epoch 38/50\n",
      "219/219 [==============================] - 0s 1ms/step - loss: 8.2468e-04 - output_1_loss: 5.0548e-04 - output_2_loss: 3.1920e-04\n",
      "Epoch 39/50\n",
      "219/219 [==============================] - 0s 1ms/step - loss: 8.2768e-04 - output_1_loss: 5.0262e-04 - output_2_loss: 3.2506e-04\n",
      "Epoch 40/50\n",
      "219/219 [==============================] - 0s 1ms/step - loss: 8.0858e-04 - output_1_loss: 4.9870e-04 - output_2_loss: 3.0988e-04\n",
      "Epoch 41/50\n",
      "219/219 [==============================] - 0s 1ms/step - loss: 8.0637e-04 - output_1_loss: 4.9633e-04 - output_2_loss: 3.1005e-04\n",
      "Epoch 42/50\n",
      "219/219 [==============================] - 0s 1ms/step - loss: 7.9516e-04 - output_1_loss: 4.9447e-04 - output_2_loss: 3.0069e-04\n",
      "Epoch 43/50\n",
      "219/219 [==============================] - 0s 1ms/step - loss: 8.0102e-04 - output_1_loss: 4.9453e-04 - output_2_loss: 3.0649e-04\n",
      "Epoch 44/50\n",
      "219/219 [==============================] - 0s 1ms/step - loss: 7.9965e-04 - output_1_loss: 5.0271e-04 - output_2_loss: 2.9695e-04\n",
      "Epoch 45/50\n",
      "219/219 [==============================] - 0s 1ms/step - loss: 7.7721e-04 - output_1_loss: 4.9079e-04 - output_2_loss: 2.8642e-04\n",
      "Epoch 46/50\n",
      "219/219 [==============================] - 0s 1ms/step - loss: 7.7830e-04 - output_1_loss: 4.8906e-04 - output_2_loss: 2.8924e-04\n",
      "Epoch 47/50\n",
      "219/219 [==============================] - 0s 1ms/step - loss: 8.1743e-04 - output_1_loss: 5.1115e-04 - output_2_loss: 3.0628e-04\n",
      "Epoch 48/50\n",
      "219/219 [==============================] - 0s 1ms/step - loss: 7.9719e-04 - output_1_loss: 4.9210e-04 - output_2_loss: 3.0509e-04\n",
      "Epoch 49/50\n",
      "219/219 [==============================] - 0s 1ms/step - loss: 7.7435e-04 - output_1_loss: 4.9389e-04 - output_2_loss: 2.8046e-04\n",
      "Epoch 50/50\n",
      "219/219 [==============================] - 0s 1ms/step - loss: 7.7420e-04 - output_1_loss: 4.8990e-04 - output_2_loss: 2.8430e-04\n"
     ]
    }
   ],
   "source": [
    "diffusion_model.fit(\n",
    "    x=X_data,\n",
    "    y=Y_data,\n",
    "    colloc_points=number_of_collocation_points,\n",
    "    dist=distribution,\n",
    "    batch_size=batch_size,\n",
    "    epochs=50,\n",
    ")"
   ]
  },
  {
   "cell_type": "markdown",
   "metadata": {},
   "source": [
    "### Demo Using the trained model for predicton"
   ]
  },
  {
   "cell_type": "code",
   "execution_count": 32,
   "metadata": {},
   "outputs": [],
   "source": [
    "#taking two points from the domain for time t=0.3 and t=0.76 respectively\n",
    "x_test_points = [[-0.5,0.1,0.3],\n",
    "                [0.66,0.6,0.76]]\n",
    "#Predicting the value\n",
    "y_predicted = diffusion_model.predict(x_test_points)"
   ]
  },
  {
   "cell_type": "code",
   "execution_count": 33,
   "metadata": {},
   "outputs": [],
   "source": [
    "#finding the true y value for comparing\n",
    "import numpy as np\n",
    "x_test_points = np.array(x_test_points)\n",
    "y_true = np.sin(x_test_points[:,0:1] + x_test_points[:,1:2]) * x_test_points[:,2:3]"
   ]
  },
  {
   "cell_type": "code",
   "execution_count": 36,
   "metadata": {},
   "outputs": [],
   "source": [
    "#looking at predicted and true solution side by side."
   ]
  },
  {
   "cell_type": "code",
   "execution_count": 37,
   "metadata": {},
   "outputs": [
    {
     "data": {
      "text/plain": [
       "array([[-0.1297535 , -0.1168255 ],\n",
       "       [ 0.70116615,  0.72358866]])"
      ]
     },
     "execution_count": 37,
     "metadata": {},
     "output_type": "execute_result"
    }
   ],
   "source": [
    "np.concatenate([y_predicted, y_true], axis=1)"
   ]
  },
  {
   "cell_type": "markdown",
   "metadata": {},
   "source": [
    "Note that we need more training for further improving the accuracy."
   ]
  },
  {
   "cell_type": "markdown",
   "metadata": {},
   "source": [
    "### Saving the model to a specified location."
   ]
  },
  {
   "cell_type": "code",
   "execution_count": 48,
   "metadata": {},
   "outputs": [
    {
     "name": "stdout",
     "output_type": "stream",
     "text": [
      "WARNING:tensorflow:From C:\\Users\\manuj\\anaconda3\\envs\\tf2\\lib\\site-packages\\tensorflow\\python\\training\\tracking\\tracking.py:111: Model.state_updates (from tensorflow.python.keras.engine.training) is deprecated and will be removed in a future version.\n",
      "Instructions for updating:\n",
      "This property should not be used in TensorFlow 2.0, as updates are applied automatically.\n",
      "WARNING:tensorflow:From C:\\Users\\manuj\\anaconda3\\envs\\tf2\\lib\\site-packages\\tensorflow\\python\\training\\tracking\\tracking.py:111: Layer.updates (from tensorflow.python.keras.engine.base_layer) is deprecated and will be removed in a future version.\n",
      "Instructions for updating:\n",
      "This property should not be used in TensorFlow 2.0, as updates are applied automatically.\n",
      "INFO:tensorflow:Assets written to: saved_model/model_name\\assets\n"
     ]
    }
   ],
   "source": [
    "path_to_save_model = \"saved_model/model_name\"\n",
    "diffusion_model.save_model(path_to_save_model)"
   ]
  },
  {
   "cell_type": "markdown",
   "metadata": {},
   "source": [
    "### Loading the saved model "
   ]
  },
  {
   "cell_type": "code",
   "execution_count": 6,
   "metadata": {},
   "outputs": [],
   "source": [
    "path_to_load_model = \"saved_model/model_name\""
   ]
  },
  {
   "cell_type": "code",
   "execution_count": 7,
   "metadata": {},
   "outputs": [],
   "source": [
    "loaded_diffusion_model = fluidlearn.Solver()"
   ]
  },
  {
   "cell_type": "code",
   "execution_count": 8,
   "metadata": {},
   "outputs": [],
   "source": [
    "loaded_diffusion_model(space_dim=2,\n",
    "    time_dep=True,\n",
    "    load_model=True,\n",
    "    model_path=path_to_load_model)"
   ]
  },
  {
   "cell_type": "markdown",
   "metadata": {},
   "source": [
    "### Predicting using loaded model"
   ]
  },
  {
   "cell_type": "code",
   "execution_count": 9,
   "metadata": {},
   "outputs": [],
   "source": [
    "y_predicted = loaded_diffusion_model.predict(X_data)"
   ]
  },
  {
   "cell_type": "code",
   "execution_count": 10,
   "metadata": {},
   "outputs": [
    {
     "data": {
      "text/plain": [
       "array([[-0.10157388],\n",
       "       [-0.4190994 ],\n",
       "       [-0.7965628 ],\n",
       "       ...,\n",
       "       [-0.10375804],\n",
       "       [ 0.05802408],\n",
       "       [-0.00470909]], dtype=float32)"
      ]
     },
     "execution_count": 10,
     "metadata": {},
     "output_type": "execute_result"
    }
   ],
   "source": [
    "y_predicted"
   ]
  },
  {
   "cell_type": "code",
   "execution_count": null,
   "metadata": {},
   "outputs": [],
   "source": []
  }
 ],
 "metadata": {
  "kernelspec": {
   "display_name": "Python 3",
   "language": "python",
   "name": "python3"
  },
  "language_info": {
   "codemirror_mode": {
    "name": "ipython",
    "version": 3
   },
   "file_extension": ".py",
   "mimetype": "text/x-python",
   "name": "python",
   "nbconvert_exporter": "python",
   "pygments_lexer": "ipython3",
   "version": "3.8.3"
  }
 },
 "nbformat": 4,
 "nbformat_minor": 4
}
